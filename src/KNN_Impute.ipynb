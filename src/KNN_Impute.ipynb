{
 "cells": [
  {
   "cell_type": "markdown",
   "metadata": {},
   "source": [
    "# KNN Data Imputation"
   ]
  },
  {
   "cell_type": "markdown",
   "metadata": {},
   "source": [
    "## Data/Library Import"
   ]
  },
  {
   "cell_type": "markdown",
   "metadata": {},
   "source": [
    "First we import our libraries"
   ]
  },
  {
   "cell_type": "code",
   "execution_count": 1,
   "metadata": {
    "collapsed": true
   },
   "outputs": [],
   "source": [
    "import numpy as np\n",
    "import pandas as pd\n",
    "import matplotlib\n",
    "import matplotlib.pyplot as plt\n",
    "import math\n",
    "import csv\n",
    "\n",
    "from math import isnan"
   ]
  },
  {
   "cell_type": "markdown",
   "metadata": {},
   "source": [
    "And the data from the breast cancer dataset. The csv values are quoted with missing values represented by '?' so we give those values to the data loading function."
   ]
  },
  {
   "cell_type": "code",
   "execution_count": 2,
   "metadata": {
    "collapsed": true
   },
   "outputs": [],
   "source": [
    "data = pd.read_csv('../data/breast-cancer.csv', quotechar=\"'\", na_values='?')"
   ]
  },
  {
   "cell_type": "markdown",
   "metadata": {},
   "source": [
    "A quick look at the first few rows to make sure everything looks right:"
   ]
  },
  {
   "cell_type": "code",
   "execution_count": 3,
   "metadata": {
    "collapsed": false
   },
   "outputs": [
    {
     "data": {
      "text/html": [
       "<div>\n",
       "<table border=\"1\" class=\"dataframe\">\n",
       "  <thead>\n",
       "    <tr style=\"text-align: right;\">\n",
       "      <th></th>\n",
       "      <th>age</th>\n",
       "      <th>menopause</th>\n",
       "      <th>tumor-size</th>\n",
       "      <th>inv-nodes</th>\n",
       "      <th>node-caps</th>\n",
       "      <th>deg-malig</th>\n",
       "      <th>breast</th>\n",
       "      <th>breast-quad</th>\n",
       "      <th>irradiat</th>\n",
       "      <th>Class</th>\n",
       "    </tr>\n",
       "  </thead>\n",
       "  <tbody>\n",
       "    <tr>\n",
       "      <th>0</th>\n",
       "      <td>40-49</td>\n",
       "      <td>premeno</td>\n",
       "      <td>15-19</td>\n",
       "      <td>0-2</td>\n",
       "      <td>yes</td>\n",
       "      <td>3</td>\n",
       "      <td>right</td>\n",
       "      <td>left_up</td>\n",
       "      <td>no</td>\n",
       "      <td>recurrence-events</td>\n",
       "    </tr>\n",
       "    <tr>\n",
       "      <th>1</th>\n",
       "      <td>50-59</td>\n",
       "      <td>ge40</td>\n",
       "      <td>15-19</td>\n",
       "      <td>0-2</td>\n",
       "      <td>no</td>\n",
       "      <td>1</td>\n",
       "      <td>right</td>\n",
       "      <td>central</td>\n",
       "      <td>no</td>\n",
       "      <td>no-recurrence-events</td>\n",
       "    </tr>\n",
       "    <tr>\n",
       "      <th>2</th>\n",
       "      <td>50-59</td>\n",
       "      <td>ge40</td>\n",
       "      <td>35-39</td>\n",
       "      <td>0-2</td>\n",
       "      <td>no</td>\n",
       "      <td>2</td>\n",
       "      <td>left</td>\n",
       "      <td>left_low</td>\n",
       "      <td>no</td>\n",
       "      <td>recurrence-events</td>\n",
       "    </tr>\n",
       "  </tbody>\n",
       "</table>\n",
       "</div>"
      ],
      "text/plain": [
       "     age menopause tumor-size inv-nodes node-caps  deg-malig breast  \\\n",
       "0  40-49   premeno      15-19       0-2       yes          3  right   \n",
       "1  50-59      ge40      15-19       0-2        no          1  right   \n",
       "2  50-59      ge40      35-39       0-2        no          2   left   \n",
       "\n",
       "  breast-quad irradiat                 Class  \n",
       "0     left_up       no     recurrence-events  \n",
       "1     central       no  no-recurrence-events  \n",
       "2    left_low       no     recurrence-events  "
      ]
     },
     "execution_count": 3,
     "metadata": {},
     "output_type": "execute_result"
    }
   ],
   "source": [
    "data[:3]"
   ]
  },
  {
   "cell_type": "markdown",
   "metadata": {},
   "source": [
    "Now down to business. We need to see which attributes contain null values:"
   ]
  },
  {
   "cell_type": "code",
   "execution_count": 4,
   "metadata": {
    "collapsed": false
   },
   "outputs": [
    {
     "data": {
      "text/plain": [
       "age            0\n",
       "menopause      0\n",
       "tumor-size     0\n",
       "inv-nodes      0\n",
       "node-caps      8\n",
       "deg-malig      0\n",
       "breast         0\n",
       "breast-quad    1\n",
       "irradiat       0\n",
       "Class          0\n",
       "dtype: int64"
      ]
     },
     "execution_count": 4,
     "metadata": {},
     "output_type": "execute_result"
    }
   ],
   "source": [
    "data.isnull().sum()"
   ]
  },
  {
   "cell_type": "markdown",
   "metadata": {},
   "source": [
    "Only 9 total with 8 in one row and 1 in the other. \n",
    "\n",
    "We'll count the values in `node-caps` and take a look at the current mode. Later this will allow us to see if any values were assigned differently than simply choosing the most common value:"
   ]
  },
  {
   "cell_type": "code",
   "execution_count": 5,
   "metadata": {
    "collapsed": false
   },
   "outputs": [
    {
     "data": {
      "text/plain": [
       "no     222\n",
       "yes     56\n",
       "Name: node-caps, dtype: int64"
      ]
     },
     "execution_count": 5,
     "metadata": {},
     "output_type": "execute_result"
    }
   ],
   "source": [
    "data['node-caps'].value_counts()"
   ]
  },
  {
   "cell_type": "markdown",
   "metadata": {},
   "source": [
    "And the same thing for `breast-quad`:"
   ]
  },
  {
   "cell_type": "code",
   "execution_count": 6,
   "metadata": {
    "collapsed": false
   },
   "outputs": [
    {
     "data": {
      "text/plain": [
       "left_low     110\n",
       "left_up       97\n",
       "right_up      33\n",
       "right_low     24\n",
       "central       21\n",
       "Name: breast-quad, dtype: int64"
      ]
     },
     "execution_count": 6,
     "metadata": {},
     "output_type": "execute_result"
    }
   ],
   "source": [
    "data['breast-quad'].value_counts()"
   ]
  },
  {
   "cell_type": "markdown",
   "metadata": {},
   "source": [
    "## KNN Function\n",
    "\n",
    "Next we define our KNN function. We will treat every attribute as categorical here which makes the distance calculation simpler. The distance between two instances increases by 1 for each attribute that disagrees. Because we are using this for imputation we ignore any rows with missing values.\n",
    "\n",
    "Possible changes include treating `deg-malig` as a numerical variable since the 1-3 rating scale has ordinal significance."
   ]
  },
  {
   "cell_type": "code",
   "execution_count": 7,
   "metadata": {
    "collapsed": true
   },
   "outputs": [],
   "source": [
    "def impute_neighbors(row, n_neighbors=3):\n",
    "    \"\"\"\n",
    "    Uses KNN for data imputation. Accepts only categorical values and ignores\n",
    "    rows with any null values. Returns the k-nearest instances as a dataframe\n",
    "    \"\"\"\n",
    "    neighbors = []\n",
    "    \n",
    "    for i, instance in data.iterrows():\n",
    "        # Iterate over all the rows in the dataframe\n",
    "\n",
    "        if row.name == i or instance.isnull().any():\n",
    "            # If we're looking at the same row we passed or a row\n",
    "            # with null values we pass over this instance\n",
    "            continue\n",
    "        else:\n",
    "            # Otherwise measure the distance\n",
    "            dist = 0\n",
    "            for attr, _ in row.iteritems():\n",
    "                # Distance is 1 if the two items are not equal, 0 otherwise\n",
    "                if row[attr] != instance[attr]:\n",
    "                    dist += 1\n",
    "                    \n",
    "            # Append the distance and instance to our list\n",
    "            neighbors.append((dist, instance))\n",
    "        \n",
    "    # Sort the list by distances and store only the instances\n",
    "    knn = [tup[1] for tup in sorted(neighbors, key=lambda t: t[0])]\n",
    "    \n",
    "    # Return the KNN as a dataframe\n",
    "    return pd.DataFrame(knn[:n_neighbors], columns=row.index)"
   ]
  },
  {
   "cell_type": "markdown",
   "metadata": {},
   "source": [
    "Now let's test that by taking a row with a missing value:"
   ]
  },
  {
   "cell_type": "code",
   "execution_count": 8,
   "metadata": {
    "collapsed": false
   },
   "outputs": [
    {
     "data": {
      "text/plain": [
       "age                        50-59\n",
       "menopause                   lt40\n",
       "tumor-size                 20-24\n",
       "inv-nodes                    0-2\n",
       "node-caps                    NaN\n",
       "deg-malig                      1\n",
       "breast                      left\n",
       "breast-quad             left_low\n",
       "irradiat                      no\n",
       "Class          recurrence-events\n",
       "Name: 20, dtype: object"
      ]
     },
     "execution_count": 8,
     "metadata": {},
     "output_type": "execute_result"
    }
   ],
   "source": [
    "row = data.iloc[20]\n",
    "row"
   ]
  },
  {
   "cell_type": "markdown",
   "metadata": {},
   "source": [
    "`node-caps` is missing in this. Let's see which neighbors the algorithm comes up with and whether or not those make sense:"
   ]
  },
  {
   "cell_type": "code",
   "execution_count": 9,
   "metadata": {
    "collapsed": false
   },
   "outputs": [
    {
     "data": {
      "text/html": [
       "<div>\n",
       "<table border=\"1\" class=\"dataframe\">\n",
       "  <thead>\n",
       "    <tr style=\"text-align: right;\">\n",
       "      <th></th>\n",
       "      <th>age</th>\n",
       "      <th>menopause</th>\n",
       "      <th>tumor-size</th>\n",
       "      <th>inv-nodes</th>\n",
       "      <th>node-caps</th>\n",
       "      <th>deg-malig</th>\n",
       "      <th>breast</th>\n",
       "      <th>breast-quad</th>\n",
       "      <th>irradiat</th>\n",
       "      <th>Class</th>\n",
       "    </tr>\n",
       "  </thead>\n",
       "  <tbody>\n",
       "    <tr>\n",
       "      <th>56</th>\n",
       "      <td>50-59</td>\n",
       "      <td>premeno</td>\n",
       "      <td>20-24</td>\n",
       "      <td>0-2</td>\n",
       "      <td>no</td>\n",
       "      <td>1</td>\n",
       "      <td>left</td>\n",
       "      <td>left_low</td>\n",
       "      <td>no</td>\n",
       "      <td>no-recurrence-events</td>\n",
       "    </tr>\n",
       "    <tr>\n",
       "      <th>2</th>\n",
       "      <td>50-59</td>\n",
       "      <td>ge40</td>\n",
       "      <td>35-39</td>\n",
       "      <td>0-2</td>\n",
       "      <td>no</td>\n",
       "      <td>2</td>\n",
       "      <td>left</td>\n",
       "      <td>left_low</td>\n",
       "      <td>no</td>\n",
       "      <td>recurrence-events</td>\n",
       "    </tr>\n",
       "    <tr>\n",
       "      <th>75</th>\n",
       "      <td>50-59</td>\n",
       "      <td>ge40</td>\n",
       "      <td>10-14</td>\n",
       "      <td>0-2</td>\n",
       "      <td>no</td>\n",
       "      <td>1</td>\n",
       "      <td>left</td>\n",
       "      <td>left_low</td>\n",
       "      <td>no</td>\n",
       "      <td>no-recurrence-events</td>\n",
       "    </tr>\n",
       "  </tbody>\n",
       "</table>\n",
       "</div>"
      ],
      "text/plain": [
       "      age menopause tumor-size inv-nodes node-caps  deg-malig breast  \\\n",
       "56  50-59   premeno      20-24       0-2        no          1   left   \n",
       "2   50-59      ge40      35-39       0-2        no          2   left   \n",
       "75  50-59      ge40      10-14       0-2        no          1   left   \n",
       "\n",
       "   breast-quad irradiat                 Class  \n",
       "56    left_low       no  no-recurrence-events  \n",
       "2     left_low       no     recurrence-events  \n",
       "75    left_low       no  no-recurrence-events  "
      ]
     },
     "execution_count": 9,
     "metadata": {},
     "output_type": "execute_result"
    }
   ],
   "source": [
    "knn = impute_neighbors(row)\n",
    "knn"
   ]
  },
  {
   "cell_type": "markdown",
   "metadata": {},
   "source": [
    "All three instances have a lot in common with the closer instances having more in common than the farther ones, which is exactly what we expect.\n",
    "\n",
    "To get a voted value from this set we can use the mode of the dataframe:"
   ]
  },
  {
   "cell_type": "code",
   "execution_count": 10,
   "metadata": {
    "collapsed": false
   },
   "outputs": [
    {
     "data": {
      "text/plain": [
       "'no'"
      ]
     },
     "execution_count": 10,
     "metadata": {},
     "output_type": "execute_result"
    }
   ],
   "source": [
    "knn['node-caps'].mode().values[0]"
   ]
  },
  {
   "cell_type": "markdown",
   "metadata": {},
   "source": [
    "## Impute Function"
   ]
  },
  {
   "cell_type": "markdown",
   "metadata": {},
   "source": [
    "Putting that all together we get the function below which iterates over all rows looking for null values and then uses the neighbors of that instance to impute what is missing."
   ]
  },
  {
   "cell_type": "code",
   "execution_count": 11,
   "metadata": {
    "collapsed": false
   },
   "outputs": [],
   "source": [
    "def knn_impute(data, k_neighbors=3):\n",
    "    \"\"\"\n",
    "    Imputes missing data using the nearest non-null neighbors.\n",
    "    Makes changes in place to dataframe\n",
    "    \"\"\"\n",
    "    # Iterate over rows\n",
    "    for i, row in data.iterrows():\n",
    "\n",
    "        # Find rows that contain nulls\n",
    "        if row.isnull().any():\n",
    "\n",
    "            # Find K nearest neighbors\n",
    "            knn = impute_neighbors(row)\n",
    "\n",
    "            # Find the cell with the null value and fill it\n",
    "            for i, v in row.iteritems():\n",
    "                if isinstance(v, float) and isnan(v):\n",
    "                    # Fill that with the voted upon value\n",
    "                    val = knn[i].mode().values[0]\n",
    "                    data.set_value(row.name, i, val)\n",
    "\n",
    "fin = knn_impute(data)"
   ]
  },
  {
   "cell_type": "markdown",
   "metadata": {},
   "source": [
    "We can see that the process worked by counting the null values again:"
   ]
  },
  {
   "cell_type": "code",
   "execution_count": 12,
   "metadata": {
    "collapsed": false
   },
   "outputs": [
    {
     "data": {
      "text/plain": [
       "age            0\n",
       "menopause      0\n",
       "tumor-size     0\n",
       "inv-nodes      0\n",
       "node-caps      0\n",
       "deg-malig      0\n",
       "breast         0\n",
       "breast-quad    0\n",
       "irradiat       0\n",
       "Class          0\n",
       "dtype: int64"
      ]
     },
     "execution_count": 12,
     "metadata": {},
     "output_type": "execute_result"
    }
   ],
   "source": [
    "data.isnull().sum()"
   ]
  },
  {
   "cell_type": "markdown",
   "metadata": {},
   "source": [
    "To see if we got different results from predicting the mode let's compare these to the value counts from earlier:"
   ]
  },
  {
   "cell_type": "markdown",
   "metadata": {},
   "source": [
    "```\n",
    "no     222\n",
    "yes     56\n",
    "Name: node-caps, dtype: int64\n",
    "```"
   ]
  },
  {
   "cell_type": "code",
   "execution_count": 13,
   "metadata": {
    "collapsed": false
   },
   "outputs": [
    {
     "data": {
      "text/plain": [
       "no     228\n",
       "yes     58\n",
       "Name: node-caps, dtype: int64"
      ]
     },
     "execution_count": 13,
     "metadata": {},
     "output_type": "execute_result"
    }
   ],
   "source": [
    "data['node-caps'].value_counts()"
   ]
  },
  {
   "cell_type": "markdown",
   "metadata": {},
   "source": [
    "```\n",
    "left_low     110\n",
    "left_up       97\n",
    "right_up      33\n",
    "right_low     24\n",
    "central       21\n",
    "Name: breast-quad, dtype: int64\n",
    "```"
   ]
  },
  {
   "cell_type": "code",
   "execution_count": 14,
   "metadata": {
    "collapsed": false
   },
   "outputs": [
    {
     "data": {
      "text/plain": [
       "left_low     111\n",
       "left_up       97\n",
       "right_up      33\n",
       "right_low     24\n",
       "central       21\n",
       "Name: breast-quad, dtype: int64"
      ]
     },
     "execution_count": 14,
     "metadata": {},
     "output_type": "execute_result"
    }
   ],
   "source": [
    "data['breast-quad'].value_counts()"
   ]
  },
  {
   "cell_type": "markdown",
   "metadata": {},
   "source": [
    "Everything looks good. Even with a small number of missing values on a binary attribute we still get different results on `node-caps` from predicting the mode as two values are assigned \"yes\" using this approach instead of just eight \"no\"s. For `breast-quad` nothing changes but at the same time with only one missing observation it's hard to infer anything from that."
   ]
  },
  {
   "cell_type": "code",
   "execution_count": 15,
   "metadata": {
    "collapsed": false
   },
   "outputs": [
    {
     "data": {
      "text/plain": [
       "age                        50-59\n",
       "menopause                   ge40\n",
       "tumor-size                 30-34\n",
       "inv-nodes                    0-2\n",
       "node-caps                     no\n",
       "deg-malig                      3\n",
       "breast                      left\n",
       "breast-quad             left_low\n",
       "irradiat                      no\n",
       "Class          recurrence-events\n",
       "Name: 240, dtype: object"
      ]
     },
     "execution_count": 15,
     "metadata": {},
     "output_type": "execute_result"
    }
   ],
   "source": [
    "data.iloc[240]"
   ]
  },
  {
   "cell_type": "code",
   "execution_count": 16,
   "metadata": {
    "collapsed": false
   },
   "outputs": [
    {
     "data": {
      "text/plain": [
       "left_low     111\n",
       "left_up       97\n",
       "right_up      33\n",
       "right_low     24\n",
       "central       21\n",
       "Name: breast-quad, dtype: int64"
      ]
     },
     "execution_count": 16,
     "metadata": {},
     "output_type": "execute_result"
    }
   ],
   "source": [
    "data['breast-quad'].value_counts()"
   ]
  },
  {
   "cell_type": "markdown",
   "metadata": {},
   "source": [
    "## Data Export"
   ]
  },
  {
   "cell_type": "code",
   "execution_count": 18,
   "metadata": {
    "collapsed": false
   },
   "outputs": [],
   "source": [
    "data.to_csv(path_or_buf='../data/breast-cancer-imputed.csv', \n",
    "            quotechar=\"'\", \n",
    "            na_rep='?', \n",
    "            quoting=csv.QUOTE_ALL, \n",
    "            index=False)"
   ]
  }
 ],
 "metadata": {
  "kernelspec": {
   "display_name": "Python 3",
   "language": "python",
   "name": "python3"
  },
  "language_info": {
   "codemirror_mode": {
    "name": "ipython",
    "version": 3
   },
   "file_extension": ".py",
   "mimetype": "text/x-python",
   "name": "python",
   "nbconvert_exporter": "python",
   "pygments_lexer": "ipython3",
   "version": "3.5.1"
  }
 },
 "nbformat": 4,
 "nbformat_minor": 0
}
